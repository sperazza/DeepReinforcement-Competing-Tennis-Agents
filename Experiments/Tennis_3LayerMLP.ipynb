{
 "cells": [
  {
   "cell_type": "markdown",
   "metadata": {},
   "source": [
    "# Collaboration and Competition\n",
    "\n",
    "---\n",
    "\n",
    "In this notebook, you will learn how to use the Unity ML-Agents environment for the third project of the [Deep Reinforcement Learning Nanodegree](https://www.udacity.com/course/deep-reinforcement-learning-nanodegree--nd893) program.\n",
    "\n",
    "### 1. Start the Environment\n",
    "\n",
    "We begin by importing the necessary packages.  If the code cell below returns an error, please revisit the project instructions to double-check that you have installed [Unity ML-Agents](https://github.com/Unity-Technologies/ml-agents/blob/master/docs/Installation.md) and [NumPy](http://www.numpy.org/)."
   ]
  },
  {
   "cell_type": "code",
   "execution_count": 1,
   "metadata": {},
   "outputs": [],
   "source": [
    "from unityagents import UnityEnvironment\n",
    "import numpy as np"
   ]
  },
  {
   "cell_type": "markdown",
   "metadata": {},
   "source": [
    "Next, we will start the environment!  **_Before running the code cell below_**, change the `file_name` parameter to match the location of the Unity environment that you downloaded.\n",
    "\n",
    "- **Mac**: `\"path/to/Tennis.app\"`\n",
    "- **Windows** (x86): `\"path/to/Tennis_Windows_x86/Tennis.exe\"`\n",
    "- **Windows** (x86_64): `\"path/to/Tennis_Windows_x86_64/Tennis.exe\"`\n",
    "- **Linux** (x86): `\"path/to/Tennis_Linux/Tennis.x86\"`\n",
    "- **Linux** (x86_64): `\"path/to/Tennis_Linux/Tennis.x86_64\"`\n",
    "- **Linux** (x86, headless): `\"path/to/Tennis_Linux_NoVis/Tennis.x86\"`\n",
    "- **Linux** (x86_64, headless): `\"path/to/Tennis_Linux_NoVis/Tennis.x86_64\"`\n",
    "\n",
    "For instance, if you are using a Mac, then you downloaded `Tennis.app`.  If this file is in the same folder as the notebook, then the line below should appear as follows:\n",
    "```\n",
    "env = UnityEnvironment(file_name=\"Tennis.app\")\n",
    "```"
   ]
  },
  {
   "cell_type": "code",
   "execution_count": 2,
   "metadata": {},
   "outputs": [
    {
     "name": "stdout",
     "output_type": "stream",
     "text": [
      "/p/Users/andy/Dropbox/_UDACITY/Reinforcement Learning/TennisCoop4\n"
     ]
    }
   ],
   "source": [
    "!pwd"
   ]
  },
  {
   "cell_type": "code",
   "execution_count": 3,
   "metadata": {},
   "outputs": [
    {
     "name": "stderr",
     "output_type": "stream",
     "text": [
      "INFO:unityagents:\n",
      "'Academy' started successfully!\n",
      "Unity Academy name: Academy\n",
      "        Number of Brains: 1\n",
      "        Number of External Brains : 1\n",
      "        Lesson number : 0\n",
      "        Reset Parameters :\n",
      "\t\t\n",
      "Unity brain name: TennisBrain\n",
      "        Number of Visual Observations (per agent): 0\n",
      "        Vector Observation space type: continuous\n",
      "        Vector Observation space size (per agent): 8\n",
      "        Number of stacked Vector Observation: 3\n",
      "        Vector Action space type: continuous\n",
      "        Vector Action space size (per agent): 2\n",
      "        Vector Action descriptions: , \n"
     ]
    }
   ],
   "source": [
    "env = UnityEnvironment(file_name=\"Tennis_Windows_x86_64/Tennis.exe\")"
   ]
  },
  {
   "cell_type": "markdown",
   "metadata": {},
   "source": [
    "Environments contain **_brains_** which are responsible for deciding the actions of their associated agents. Here we check for the first brain available, and set it as the default brain we will be controlling from Python."
   ]
  },
  {
   "cell_type": "code",
   "execution_count": 4,
   "metadata": {},
   "outputs": [],
   "source": [
    "# get the default brain\n",
    "brain_name = env.brain_names[0]\n",
    "brain = env.brains[brain_name]"
   ]
  },
  {
   "cell_type": "markdown",
   "metadata": {},
   "source": [
    "### 2. Examine the State and Action Spaces\n",
    "\n",
    "In this environment, two agents control rackets to bounce a ball over a net. If an agent hits the ball over the net, it receives a reward of +0.1.  If an agent lets a ball hit the ground or hits the ball out of bounds, it receives a reward of -0.01.  Thus, the goal of each agent is to keep the ball in play.\n",
    "\n",
    "The observation space consists of 8 variables corresponding to the position and velocity of the ball and racket. Two continuous actions are available, corresponding to movement toward (or away from) the net, and jumping. \n",
    "\n",
    "Run the code cell below to print some information about the environment."
   ]
  },
  {
   "cell_type": "code",
   "execution_count": 5,
   "metadata": {},
   "outputs": [
    {
     "name": "stdout",
     "output_type": "stream",
     "text": [
      "Unity brain name: TennisBrain\n",
      "        Number of Visual Observations (per agent): 0\n",
      "        Vector Observation space type: continuous\n",
      "        Vector Observation space size (per agent): 8\n",
      "        Number of stacked Vector Observation: 3\n",
      "        Vector Action space type: continuous\n",
      "        Vector Action space size (per agent): 2\n",
      "        Vector Action descriptions: , \n"
     ]
    }
   ],
   "source": [
    "print(brain)"
   ]
  },
  {
   "cell_type": "code",
   "execution_count": 6,
   "metadata": {},
   "outputs": [
    {
     "name": "stdout",
     "output_type": "stream",
     "text": [
      "Number of agents: 2\n",
      "Size of each action: 2\n",
      "There are 2 agents. Each observes a state with length: 24\n",
      "The state for the first agent looks like: [ 0.          0.          0.          0.          0.          0.\n",
      "  0.          0.          0.          0.          0.          0.\n",
      "  0.          0.          0.          0.         -6.65278625 -1.5\n",
      " -0.          0.          6.83172083  6.         -0.          0.        ]\n"
     ]
    }
   ],
   "source": [
    "# reset the environment\n",
    "env_info = env.reset(train_mode=True)[brain_name]\n",
    "# number of agents \n",
    "num_agents = len(env_info.agents)\n",
    "print('Number of agents:', num_agents)\n",
    "\n",
    "# size of each action\n",
    "action_size = brain.vector_action_space_size\n",
    "print('Size of each action:', action_size)\n",
    "\n",
    "# examine the state space \n",
    "states = env_info.vector_observations\n",
    "state_size = states.shape[1]\n",
    "print('There are {} agents. Each observes a state with length: {}'.format(states.shape[0], state_size))\n",
    "print('The state for the first agent looks like:', states[0])"
   ]
  },
  {
   "cell_type": "markdown",
   "metadata": {},
   "source": [
    "### 3. Take Random Actions in the Environment\n",
    "\n",
    "In the next code cell, you will learn how to use the Python API to control the agents and receive feedback from the environment.\n",
    "\n",
    "Once this cell is executed, you will watch the agents' performance, if they select actions at random with each time step.  A window should pop up that allows you to observe the agents.\n",
    "\n",
    "Of course, as part of the project, you'll have to change the code so that the agents are able to use their experiences to gradually choose better actions when interacting with the environment!"
   ]
  },
  {
   "cell_type": "code",
   "execution_count": 7,
   "metadata": {},
   "outputs": [],
   "source": [
    "runSample=False  #set to true to run sample/take random actions in environment"
   ]
  },
  {
   "cell_type": "code",
   "execution_count": 8,
   "metadata": {},
   "outputs": [],
   "source": [
    "\n",
    "if (runSample): \n",
    "    for i in range(1, 6):                                      # play game for 5 episodes\n",
    "        env_info = env.reset(train_mode=False)[brain_name]     # reset the environment    \n",
    "        states = env_info.vector_observations                  # get the current state (for each agent)\n",
    "        scores = np.zeros(num_agents)                          # initialize the score (for each agent)\n",
    "        while True:\n",
    "            actions = np.random.randn(num_agents, action_size) # select an action (for each agent)\n",
    "            actions = np.clip(actions, -1, 1)                  # all actions between -1 and 1\n",
    "            env_info = env.step(actions)[brain_name]           # send all actions to tne environment\n",
    "            next_states = env_info.vector_observations         # get next state (for each agent)\n",
    "            rewards = env_info.rewards                         # get reward (for each agent)\n",
    "            dones = env_info.local_done                        # see if episode finished\n",
    "            scores += env_info.rewards                         # update the score (for each agent)\n",
    "            states = next_states                               # roll over states to next time step\n",
    "            if np.any(dones):                                  # exit loop if episode finished\n",
    "                break\n",
    "        print('Score (max over agents) from episode {}: {}'.format(i, np.max(scores)))"
   ]
  },
  {
   "cell_type": "markdown",
   "metadata": {},
   "source": [
    "When finished, you can close the environment."
   ]
  },
  {
   "cell_type": "code",
   "execution_count": 9,
   "metadata": {},
   "outputs": [],
   "source": [
    "if (runSample): \n",
    "    env.close()"
   ]
  },
  {
   "cell_type": "markdown",
   "metadata": {},
   "source": [
    "### 4. It's Your Turn!\n",
    "\n",
    "Now it's your turn to train your own agent to solve the environment!  When training the environment, set `train_mode=True`, so that the line for resetting the environment looks like the following:\n",
    "```python\n",
    "env_info = env.reset(train_mode=True)[brain_name]\n",
    "```"
   ]
  },
  {
   "cell_type": "markdown",
   "metadata": {},
   "source": [
    "## Implement MADDPG policy"
   ]
  },
  {
   "cell_type": "markdown",
   "metadata": {},
   "source": [
    "### Setup Parameters\n",
    "\n",
    "This uses a basic structure 'Parameters' to encapsalate all common parameters"
   ]
  },
  {
   "cell_type": "code",
   "execution_count": 10,
   "metadata": {},
   "outputs": [
    {
     "name": "stdout",
     "output_type": "stream",
     "text": [
      "Parameters:\n",
      "===========\n",
      "STATE_SIZE(0):24\n",
      "ACTION_SIZE(0):2\n",
      "NUM_AGENTS(0):2\n",
      "RANDOM_SEED(1):1\n",
      "BUFFER_SIZE(ie5):50000\n",
      "BATCH_SIZE(512):256\n",
      "STEPS_BEFORE_LEARN(15) :5\n",
      "NUM_LEARN_STEPS(10):25\n",
      "GAMMA(.99):0.97\n",
      "GAMMA_MAX(.99):0.99\n",
      "GAMMA_DECAY(1.001):1.0001\n",
      "TAU Size(1e-3):0.07\n",
      "LR_ACTOR(ie-4):0.0001\n",
      "LR_CRITIC(1e-5):0.001\n",
      "WEIGHT_DECAY(0):0\n",
      "DEVICE(cpu):cuda:0\n",
      "EPSILON(1.0):0.99\n",
      "EPSILON_MIN(.1) :0.1\n",
      "EPSILON_DECAY(.995) :0.9994\n",
      "NOISE_SIGMA(0.2):0.3\n",
      "\n"
     ]
    }
   ],
   "source": [
    "import torch\n",
    "import torch.nn as nn\n",
    "import torch.nn.functional as F\n",
    "from Parameters import Parameters\n",
    "\n",
    "p=Parameters()\n",
    "p.set_defaults()\n",
    "p.BATCH_SIZE=256\n",
    "p.STEPS_BEFORE_LEARN=5\n",
    "p.NUM_LEARN_STEPS=25\n",
    "p.STATE_SIZE=state_size\n",
    "p.ACTION_SIZE=action_size\n",
    "p.NUM_AGENTS=num_agents\n",
    "p.BUFFER_SIZE=int(5.0e4)\n",
    "p.LR_ACTOR=.0001\n",
    "p.LR_CRITIC=.001\n",
    "p.TAU = 0.07\n",
    "p.WEIGHT_DECAY=0\n",
    "p.EPSILON=.99\n",
    "p.EPSILON_DECAY=.9994\n",
    "p.GAMMA = 0.97\n",
    "p.GAMMA_DECAY = 1.0001\n",
    "p.NOISE_SIGMA=.3\n",
    "p.DEVICE= torch.device(\"cuda:0\" if torch.cuda.is_available() else \"cpu\")\n",
    "device = p.DEVICE\n",
    "\n",
    "print(p)"
   ]
  },
  {
   "cell_type": "code",
   "execution_count": 13,
   "metadata": {},
   "outputs": [],
   "source": [
    "from maddpg_agent import DDPGAgent,MADDPGAgent\n",
    "agent = MADDPGAgent(p)"
   ]
  },
  {
   "cell_type": "code",
   "execution_count": 14,
   "metadata": {},
   "outputs": [
    {
     "name": "stdout",
     "output_type": "stream",
     "text": [
      "Actor(\n",
      "  (fc1): Linear(in_features=48, out_features=96, bias=True)\n",
      "  (do1): Dropout(p=0.2)\n",
      "  (bn1): LayerNorm(torch.Size([96]), eps=1e-05, elementwise_affine=True)\n",
      "  (fc2): Linear(in_features=96, out_features=96, bias=True)\n",
      "  (bn2): LayerNorm(torch.Size([96]), eps=1e-05, elementwise_affine=True)\n",
      "  (fc3): Linear(in_features=96, out_features=96, bias=True)\n",
      "  (bn3): LayerNorm(torch.Size([96]), eps=1e-05, elementwise_affine=True)\n",
      "  (fc4): Linear(in_features=96, out_features=2, bias=True)\n",
      ")\n",
      "Actor(\n",
      "  (fc1): Linear(in_features=48, out_features=96, bias=True)\n",
      "  (do1): Dropout(p=0.2)\n",
      "  (bn1): LayerNorm(torch.Size([96]), eps=1e-05, elementwise_affine=True)\n",
      "  (fc2): Linear(in_features=96, out_features=96, bias=True)\n",
      "  (bn2): LayerNorm(torch.Size([96]), eps=1e-05, elementwise_affine=True)\n",
      "  (fc3): Linear(in_features=96, out_features=96, bias=True)\n",
      "  (bn3): LayerNorm(torch.Size([96]), eps=1e-05, elementwise_affine=True)\n",
      "  (fc4): Linear(in_features=96, out_features=2, bias=True)\n",
      ")\n"
     ]
    }
   ],
   "source": [
    "print(agent.agents[0].actor_local)\n",
    "print(agent.agents[1].actor_local)"
   ]
  },
  {
   "cell_type": "markdown",
   "metadata": {},
   "source": [
    "### savePrintScores()\n",
    "\n",
    "prints progresss and saves network\n",
    "\n",
    "- in parameters:\n",
    "    - i_episode     :   current episode\n",
    "    - save_interval :   how often to save network\n",
    "    - score_average :   current average of scores\n",
    "    - scores        :   current scores\n",
    "    - p             :   parameter object\n",
    "    "
   ]
  },
  {
   "cell_type": "code",
   "execution_count": 15,
   "metadata": {},
   "outputs": [],
   "source": [
    "solved=False\n",
    "\n",
    "def save_print_scores(i_episode,save_interval,score_average,scores,max_score, p):\n",
    "    score_string=\"\"\n",
    "    save_string=\"          \"\n",
    "    solved_string=\"       \"\n",
    "    global solved\n",
    "    score_string=str('\\r         Episode {}, Average Score: {:.4f}, Std Dev: {:.2f}, Eps: {:.2f}, gam: {:.2f}'\\\n",
    "          .format(i_episode, score_average, np.std(scores), p.EPSILON, p.GAMMA))\n",
    "\n",
    "    if i_episode % save_interval==0 and not solved:\n",
    "        for i in range(p.NUM_AGENTS):\n",
    "            torch.save(agent.agents[i].actor_local.state_dict(), 'checkpoints\\checkpoint_actor'+str(i)+'_opt.pth')\n",
    "        save_string=str(\"\\r saved \")\n",
    "\n",
    "    if score_average > 0.5:\n",
    "        solved=True\n",
    "        solved_string=\"\\r*solved* \"\n",
    "        if score_average == max_score:\n",
    "            for i in range(p.NUM_AGENTS):\n",
    "                torch.save(agent.agents[i].actor_local.state_dict(), 'checkpoints\\optimum_checkpoint_actor'+str(i)+'_opt.pth')\n",
    "            save_string=str(\"\\r opt saved\")\n",
    "    print(solved_string+score_string+save_string)\n"
   ]
  },
  {
   "cell_type": "markdown",
   "metadata": {},
   "source": [
    "### updateLrSteps()\n",
    "\n",
    "updates Learning Rate and number of steps\n",
    "\n",
    "- in parameters:\n",
    "    - i_episode     :   current episode\n",
    "    - p             :   parameter object\n",
    "    "
   ]
  },
  {
   "cell_type": "code",
   "execution_count": 16,
   "metadata": {},
   "outputs": [],
   "source": [
    "def updateLrSteps(i_episode,score_average):\n",
    "    if i_episode == 1000:\n",
    "        p.STEPS_BEFORE_LEARN=40\n",
    "        p.NUM_LEARN_STEPS=30\n",
    "        agent.lr_step()\n",
    "    if i_episode  == 3000:\n",
    "        p.STEPS_BEFORE_LEARN=50\n",
    "        p.NUM_LEARN_STEPS=20\n",
    "    if score_average > 0.5:\n",
    "        p.STEPS_BEFORE_LEARN=10\n",
    "        p.NUM_LEARN_STEPS=10"
   ]
  },
  {
   "cell_type": "markdown",
   "metadata": {},
   "source": [
    "## Train Agents\n",
    "\n",
    "##### (Note:You can safely Interupt Kernel to stop early)"
   ]
  },
  {
   "cell_type": "code",
   "execution_count": null,
   "metadata": {},
   "outputs": [
    {
     "name": "stdout",
     "output_type": "stream",
     "text": [
      "         Episode 1, Average Score: -0.0050, Std Dev: 0.00, Eps: 0.99, gam: 0.97          \n",
      "         Episode 2, Average Score: -0.0050, Std Dev: 0.00, Eps: 0.99, gam: 0.97          \n",
      "         Episode 3, Average Score: -0.0050, Std Dev: 0.00, Eps: 0.99, gam: 0.97          \n",
      "         Episode 4, Average Score: -0.0050, Std Dev: 0.00, Eps: 0.99, gam: 0.97          \n",
      "         Episode 5, Average Score: -0.0050, Std Dev: 0.00, Eps: 0.99, gam: 0.97          \n",
      "         Episode 6, Average Score: -0.0050, Std Dev: 0.00, Eps: 0.99, gam: 0.97          \n",
      "         Episode 7, Average Score: -0.0050, Std Dev: 0.00, Eps: 0.99, gam: 0.97          \n",
      "         Episode 8, Average Score: -0.0050, Std Dev: 0.00, Eps: 0.99, gam: 0.97          \n",
      "         Episode 9, Average Score: -0.0050, Std Dev: 0.00, Eps: 0.98, gam: 0.97          \n",
      "         Episode 10, Average Score: -0.0050, Std Dev: 0.00, Eps: 0.98, gam: 0.97          \n",
      "         Episode 11, Average Score: -0.0050, Std Dev: 0.00, Eps: 0.98, gam: 0.97          \n",
      "         Episode 12, Average Score: -0.0050, Std Dev: 0.00, Eps: 0.98, gam: 0.97          \n",
      "         Episode 13, Average Score: -0.0050, Std Dev: 0.00, Eps: 0.98, gam: 0.97          \n",
      "         Episode 14, Average Score: -0.0050, Std Dev: 0.00, Eps: 0.98, gam: 0.97          \n",
      "         Episode 15, Average Score: -0.0050, Std Dev: 0.00, Eps: 0.98, gam: 0.97          \n",
      "         Episode 16, Average Score: -0.0050, Std Dev: 0.00, Eps: 0.98, gam: 0.97          \n",
      "         Episode 17, Average Score: -0.0050, Std Dev: 0.00, Eps: 0.98, gam: 0.97          \n",
      "         Episode 18, Average Score: -0.0050, Std Dev: 0.00, Eps: 0.98, gam: 0.97          \n",
      "         Episode 19, Average Score: -0.0050, Std Dev: 0.00, Eps: 0.98, gam: 0.97          \n",
      "         Episode 20, Average Score: -0.0050, Std Dev: 0.00, Eps: 0.98, gam: 0.97          \n",
      "         Episode 21, Average Score: -0.0050, Std Dev: 0.00, Eps: 0.98, gam: 0.97          \n",
      "         Episode 22, Average Score: -0.0050, Std Dev: 0.00, Eps: 0.98, gam: 0.97          \n",
      "         Episode 23, Average Score: -0.0050, Std Dev: 0.00, Eps: 0.98, gam: 0.97          \n",
      "         Episode 24, Average Score: -0.0050, Std Dev: 0.00, Eps: 0.98, gam: 0.97          \n",
      "         Episode 25, Average Score: -0.0050, Std Dev: 0.00, Eps: 0.98, gam: 0.97          \n",
      "         Episode 26, Average Score: -0.0050, Std Dev: 0.00, Eps: 0.97, gam: 0.97          \n",
      "         Episode 27, Average Score: -0.0050, Std Dev: 0.00, Eps: 0.97, gam: 0.97          \n",
      "         Episode 28, Average Score: -0.0032, Std Dev: 0.06, Eps: 0.97, gam: 0.97          \n",
      "         Episode 29, Average Score: -0.0033, Std Dev: 0.00, Eps: 0.97, gam: 0.97          \n",
      "         Episode 30, Average Score: -0.0033, Std Dev: 0.00, Eps: 0.97, gam: 0.97          \n",
      "         Episode 31, Average Score: -0.0034, Std Dev: 0.00, Eps: 0.97, gam: 0.97          \n",
      "         Episode 32, Average Score: -0.0034, Std Dev: 0.00, Eps: 0.97, gam: 0.97          \n",
      "         Episode 33, Average Score: -0.0035, Std Dev: 0.00, Eps: 0.97, gam: 0.97          \n",
      "         Episode 34, Average Score: -0.0035, Std Dev: 0.00, Eps: 0.97, gam: 0.97          \n",
      "         Episode 35, Average Score: -0.0036, Std Dev: 0.00, Eps: 0.97, gam: 0.97          \n",
      "         Episode 36, Average Score: -0.0036, Std Dev: 0.00, Eps: 0.97, gam: 0.97          \n",
      "         Episode 37, Average Score: -0.0036, Std Dev: 0.00, Eps: 0.97, gam: 0.97          \n",
      "         Episode 38, Average Score: -0.0024, Std Dev: 0.06, Eps: 0.97, gam: 0.97          \n",
      "         Episode 39, Average Score: -0.0024, Std Dev: 0.00, Eps: 0.97, gam: 0.97          \n",
      "         Episode 40, Average Score: -0.0025, Std Dev: 0.00, Eps: 0.97, gam: 0.97          \n",
      "         Episode 41, Average Score: -0.0026, Std Dev: 0.00, Eps: 0.97, gam: 0.97          \n",
      "         Episode 42, Average Score: -0.0026, Std Dev: 0.00, Eps: 0.97, gam: 0.97          \n",
      "         Episode 43, Average Score: -0.0027, Std Dev: 0.00, Eps: 0.96, gam: 0.97          \n",
      "         Episode 44, Average Score: -0.0027, Std Dev: 0.00, Eps: 0.96, gam: 0.97          \n",
      "         Episode 45, Average Score: -0.0028, Std Dev: 0.00, Eps: 0.96, gam: 0.97          \n",
      "         Episode 46, Average Score: -0.0028, Std Dev: 0.00, Eps: 0.96, gam: 0.97          \n",
      "         Episode 47, Average Score: -0.0018, Std Dev: 0.06, Eps: 0.96, gam: 0.97          \n",
      "         Episode 48, Average Score: -0.0019, Std Dev: 0.00, Eps: 0.96, gam: 0.97          \n",
      "         Episode 49, Average Score: -0.0019, Std Dev: 0.00, Eps: 0.96, gam: 0.97          \n",
      "         Episode 50, Average Score: -0.0020, Std Dev: 0.00, Eps: 0.96, gam: 0.97          \n",
      "         Episode 51, Average Score: -0.0011, Std Dev: 0.05, Eps: 0.96, gam: 0.97          \n",
      "         Episode 52, Average Score: -0.0002, Std Dev: 0.05, Eps: 0.96, gam: 0.98          \n",
      "         Episode 53, Average Score: 0.0007, Std Dev: 0.05, Eps: 0.96, gam: 0.98          \n",
      "         Episode 54, Average Score: 0.0006, Std Dev: 0.00, Eps: 0.96, gam: 0.98          \n",
      "         Episode 55, Average Score: 0.0005, Std Dev: 0.00, Eps: 0.96, gam: 0.98          \n",
      "         Episode 56, Average Score: 0.0013, Std Dev: 0.06, Eps: 0.96, gam: 0.98          \n",
      "         Episode 57, Average Score: 0.0020, Std Dev: 0.06, Eps: 0.96, gam: 0.98          \n",
      "         Episode 58, Average Score: 0.0019, Std Dev: 0.00, Eps: 0.96, gam: 0.98          \n",
      "         Episode 59, Average Score: 0.0026, Std Dev: 0.05, Eps: 0.96, gam: 0.98          \n",
      "         Episode 60, Average Score: 0.0033, Std Dev: 0.05, Eps: 0.95, gam: 0.98          \n",
      "         Episode 61, Average Score: 0.0040, Std Dev: 0.06, Eps: 0.95, gam: 0.98          \n",
      "         Episode 62, Average Score: 0.0047, Std Dev: 0.05, Eps: 0.95, gam: 0.98          \n",
      "         Episode 63, Average Score: 0.0045, Std Dev: 0.00, Eps: 0.95, gam: 0.98          \n",
      "         Episode 64, Average Score: 0.0052, Std Dev: 0.06, Eps: 0.95, gam: 0.98          \n",
      "         Episode 65, Average Score: 0.0058, Std Dev: 0.06, Eps: 0.95, gam: 0.98          \n",
      "         Episode 66, Average Score: 0.0064, Std Dev: 0.05, Eps: 0.95, gam: 0.98          \n",
      "         Episode 67, Average Score: 0.0069, Std Dev: 0.05, Eps: 0.95, gam: 0.98          \n",
      "         Episode 68, Average Score: 0.0075, Std Dev: 0.06, Eps: 0.95, gam: 0.98          \n",
      "         Episode 69, Average Score: 0.0080, Std Dev: 0.06, Eps: 0.95, gam: 0.98          \n",
      "         Episode 70, Average Score: 0.0086, Std Dev: 0.06, Eps: 0.95, gam: 0.98          \n",
      "         Episode 71, Average Score: 0.0091, Std Dev: 0.06, Eps: 0.95, gam: 0.98          \n",
      "         Episode 72, Average Score: 0.0096, Std Dev: 0.06, Eps: 0.95, gam: 0.98          \n",
      "         Episode 73, Average Score: 0.0101, Std Dev: 0.06, Eps: 0.95, gam: 0.98          \n",
      "         Episode 74, Average Score: 0.0105, Std Dev: 0.06, Eps: 0.95, gam: 0.98          \n",
      "         Episode 75, Average Score: 0.0103, Std Dev: 0.00, Eps: 0.95, gam: 0.98          \n",
      "         Episode 76, Average Score: 0.0108, Std Dev: 0.06, Eps: 0.95, gam: 0.98          \n",
      "         Episode 77, Average Score: 0.0112, Std Dev: 0.06, Eps: 0.95, gam: 0.98          \n",
      "         Episode 78, Average Score: 0.0117, Std Dev: 0.06, Eps: 0.94, gam: 0.98          \n",
      "         Episode 79, Average Score: 0.0121, Std Dev: 0.06, Eps: 0.94, gam: 0.98          \n",
      "         Episode 80, Average Score: 0.0125, Std Dev: 0.06, Eps: 0.94, gam: 0.98          \n",
      "         Episode 81, Average Score: 0.0129, Std Dev: 0.05, Eps: 0.94, gam: 0.98          \n",
      "         Episode 82, Average Score: 0.0133, Std Dev: 0.06, Eps: 0.94, gam: 0.98          \n",
      "         Episode 83, Average Score: 0.0137, Std Dev: 0.06, Eps: 0.94, gam: 0.98          \n",
      "         Episode 84, Average Score: 0.0146, Std Dev: 0.00, Eps: 0.94, gam: 0.98          \n",
      "         Episode 85, Average Score: 0.0144, Std Dev: 0.00, Eps: 0.94, gam: 0.98          \n",
      "         Episode 86, Average Score: 0.0153, Std Dev: 0.00, Eps: 0.94, gam: 0.98          \n",
      "         Episode 87, Average Score: 0.0157, Std Dev: 0.06, Eps: 0.94, gam: 0.98          \n",
      "         Episode 88, Average Score: 0.0160, Std Dev: 0.06, Eps: 0.94, gam: 0.98          \n",
      "         Episode 89, Average Score: 0.0163, Std Dev: 0.05, Eps: 0.94, gam: 0.98          \n",
      "         Episode 90, Average Score: 0.0167, Std Dev: 0.06, Eps: 0.94, gam: 0.98          \n",
      "         Episode 91, Average Score: 0.0164, Std Dev: 0.00, Eps: 0.94, gam: 0.98          \n"
     ]
    },
    {
     "name": "stdout",
     "output_type": "stream",
     "text": [
      "         Episode 92, Average Score: 0.0167, Std Dev: 0.06, Eps: 0.94, gam: 0.98          \n",
      "         Episode 93, Average Score: 0.0170, Std Dev: 0.06, Eps: 0.94, gam: 0.98          \n",
      "         Episode 94, Average Score: 0.0173, Std Dev: 0.05, Eps: 0.94, gam: 0.98          \n",
      "         Episode 95, Average Score: 0.0176, Std Dev: 0.06, Eps: 0.94, gam: 0.98          \n",
      "         Episode 96, Average Score: 0.0179, Std Dev: 0.05, Eps: 0.93, gam: 0.98          \n",
      "         Episode 97, Average Score: 0.0182, Std Dev: 0.06, Eps: 0.93, gam: 0.98          \n",
      "         Episode 98, Average Score: 0.0185, Std Dev: 0.05, Eps: 0.93, gam: 0.98          \n",
      "         Episode 99, Average Score: 0.0187, Std Dev: 0.05, Eps: 0.93, gam: 0.98          \n",
      " saved   Episode 100, Average Score: 0.0190, Std Dev: 0.06, Eps: 0.93, gam: 0.98\n",
      "         Episode 101, Average Score: 0.0190, Std Dev: 0.00, Eps: 0.93, gam: 0.98          \n",
      "         Episode 102, Average Score: 0.0195, Std Dev: 0.05, Eps: 0.93, gam: 0.98          \n",
      "         Episode 103, Average Score: 0.0200, Std Dev: 0.06, Eps: 0.93, gam: 0.98          \n",
      "         Episode 104, Average Score: 0.0200, Std Dev: 0.00, Eps: 0.93, gam: 0.98          \n",
      "         Episode 105, Average Score: 0.0205, Std Dev: 0.06, Eps: 0.93, gam: 0.98          \n",
      "         Episode 106, Average Score: 0.0210, Std Dev: 0.06, Eps: 0.93, gam: 0.98          \n",
      "         Episode 107, Average Score: 0.0215, Std Dev: 0.05, Eps: 0.93, gam: 0.98          \n",
      "         Episode 108, Average Score: 0.0220, Std Dev: 0.05, Eps: 0.93, gam: 0.98          \n",
      "         Episode 109, Average Score: 0.0220, Std Dev: 0.00, Eps: 0.93, gam: 0.98          \n",
      "         Episode 110, Average Score: 0.0225, Std Dev: 0.06, Eps: 0.93, gam: 0.98          \n",
      "         Episode 111, Average Score: 0.0235, Std Dev: 0.00, Eps: 0.93, gam: 0.98          \n",
      "         Episode 112, Average Score: 0.0240, Std Dev: 0.06, Eps: 0.93, gam: 0.98          \n",
      "         Episode 113, Average Score: 0.0245, Std Dev: 0.06, Eps: 0.93, gam: 0.98          \n",
      "         Episode 114, Average Score: 0.0245, Std Dev: 0.00, Eps: 0.92, gam: 0.98          \n",
      "         Episode 115, Average Score: 0.0245, Std Dev: 0.00, Eps: 0.92, gam: 0.98          \n",
      "         Episode 116, Average Score: 0.0245, Std Dev: 0.00, Eps: 0.92, gam: 0.98          \n",
      "         Episode 117, Average Score: 0.0245, Std Dev: 0.00, Eps: 0.92, gam: 0.98          \n",
      "         Episode 118, Average Score: 0.0250, Std Dev: 0.06, Eps: 0.92, gam: 0.98          \n",
      "         Episode 119, Average Score: 0.0255, Std Dev: 0.06, Eps: 0.92, gam: 0.98          \n",
      "         Episode 120, Average Score: 0.0260, Std Dev: 0.06, Eps: 0.92, gam: 0.98          \n",
      "         Episode 121, Average Score: 0.0260, Std Dev: 0.00, Eps: 0.92, gam: 0.98          \n",
      "         Episode 122, Average Score: 0.0265, Std Dev: 0.06, Eps: 0.92, gam: 0.98          \n",
      "         Episode 123, Average Score: 0.0270, Std Dev: 0.06, Eps: 0.92, gam: 0.98          \n",
      "         Episode 124, Average Score: 0.0275, Std Dev: 0.06, Eps: 0.92, gam: 0.98          \n",
      "         Episode 125, Average Score: 0.0280, Std Dev: 0.06, Eps: 0.92, gam: 0.98          \n",
      "         Episode 126, Average Score: 0.0285, Std Dev: 0.06, Eps: 0.92, gam: 0.98          \n",
      "         Episode 127, Average Score: 0.0290, Std Dev: 0.06, Eps: 0.92, gam: 0.98          \n",
      "         Episode 128, Average Score: 0.0290, Std Dev: 0.06, Eps: 0.92, gam: 0.98          \n",
      "         Episode 129, Average Score: 0.0290, Std Dev: 0.00, Eps: 0.92, gam: 0.98          \n",
      "         Episode 130, Average Score: 0.0290, Std Dev: 0.00, Eps: 0.92, gam: 0.98          \n",
      "         Episode 131, Average Score: 0.0290, Std Dev: 0.00, Eps: 0.92, gam: 0.98          \n",
      "         Episode 132, Average Score: 0.0300, Std Dev: 0.00, Eps: 0.91, gam: 0.98          \n",
      "         Episode 133, Average Score: 0.0310, Std Dev: 0.00, Eps: 0.91, gam: 0.98          \n",
      "         Episode 134, Average Score: 0.0320, Std Dev: 0.00, Eps: 0.91, gam: 0.98          \n",
      "         Episode 135, Average Score: 0.0325, Std Dev: 0.06, Eps: 0.91, gam: 0.98          \n",
      "         Episode 136, Average Score: 0.0330, Std Dev: 0.06, Eps: 0.91, gam: 0.98          \n",
      "         Episode 137, Average Score: 0.0335, Std Dev: 0.06, Eps: 0.91, gam: 0.98          \n",
      "         Episode 138, Average Score: 0.0340, Std Dev: 0.00, Eps: 0.91, gam: 0.98          \n",
      "         Episode 139, Average Score: 0.0345, Std Dev: 0.05, Eps: 0.91, gam: 0.98          \n",
      "         Episode 140, Average Score: 0.0355, Std Dev: 0.00, Eps: 0.91, gam: 0.98          \n",
      "         Episode 141, Average Score: 0.0360, Std Dev: 0.06, Eps: 0.91, gam: 0.98          \n",
      "         Episode 142, Average Score: 0.0365, Std Dev: 0.05, Eps: 0.91, gam: 0.98          \n",
      "         Episode 143, Average Score: 0.0375, Std Dev: 0.00, Eps: 0.91, gam: 0.98          \n",
      "         Episode 144, Average Score: 0.0380, Std Dev: 0.06, Eps: 0.91, gam: 0.98          \n",
      "         Episode 145, Average Score: 0.0390, Std Dev: 0.00, Eps: 0.91, gam: 0.98          \n",
      "         Episode 146, Average Score: 0.0400, Std Dev: 0.00, Eps: 0.91, gam: 0.98          \n",
      "         Episode 147, Average Score: 0.0405, Std Dev: 0.00, Eps: 0.91, gam: 0.98          \n",
      "         Episode 148, Average Score: 0.0410, Std Dev: 0.06, Eps: 0.91, gam: 0.98          \n",
      "         Episode 149, Average Score: 0.0415, Std Dev: 0.06, Eps: 0.91, gam: 0.98          \n",
      "         Episode 150, Average Score: 0.0420, Std Dev: 0.06, Eps: 0.90, gam: 0.98          \n",
      "         Episode 151, Average Score: 0.0420, Std Dev: 0.05, Eps: 0.90, gam: 0.98          \n",
      "         Episode 152, Average Score: 0.0420, Std Dev: 0.06, Eps: 0.90, gam: 0.98          \n",
      "         Episode 153, Average Score: 0.0420, Std Dev: 0.06, Eps: 0.90, gam: 0.98          \n",
      "         Episode 154, Average Score: 0.0430, Std Dev: 0.00, Eps: 0.90, gam: 0.99          \n",
      "         Episode 155, Average Score: 0.0435, Std Dev: 0.06, Eps: 0.90, gam: 0.99          \n",
      "         Episode 156, Average Score: 0.0435, Std Dev: 0.06, Eps: 0.90, gam: 0.99          \n",
      "         Episode 157, Average Score: 0.0435, Std Dev: 0.06, Eps: 0.90, gam: 0.99          \n",
      "         Episode 158, Average Score: 0.0440, Std Dev: 0.06, Eps: 0.90, gam: 0.99          \n",
      "         Episode 159, Average Score: 0.0440, Std Dev: 0.06, Eps: 0.90, gam: 0.99          \n",
      "         Episode 160, Average Score: 0.0440, Std Dev: 0.05, Eps: 0.90, gam: 0.99          \n",
      "         Episode 161, Average Score: 0.0440, Std Dev: 0.05, Eps: 0.90, gam: 0.99          \n",
      "         Episode 162, Average Score: 0.0440, Std Dev: 0.06, Eps: 0.90, gam: 0.99          \n",
      "         Episode 163, Average Score: 0.0445, Std Dev: 0.06, Eps: 0.90, gam: 0.99          \n",
      "         Episode 164, Average Score: 0.0445, Std Dev: 0.06, Eps: 0.90, gam: 0.99          \n",
      "         Episode 165, Average Score: 0.0445, Std Dev: 0.06, Eps: 0.90, gam: 0.99          \n",
      "         Episode 166, Average Score: 0.0445, Std Dev: 0.06, Eps: 0.90, gam: 0.99          \n",
      "         Episode 167, Average Score: 0.0445, Std Dev: 0.05, Eps: 0.90, gam: 0.99          \n",
      "         Episode 168, Average Score: 0.0445, Std Dev: 0.06, Eps: 0.90, gam: 0.99          \n",
      "         Episode 169, Average Score: 0.0440, Std Dev: 0.00, Eps: 0.89, gam: 0.99          \n",
      "         Episode 170, Average Score: 0.0440, Std Dev: 0.06, Eps: 0.89, gam: 0.99          \n",
      "         Episode 171, Average Score: 0.0435, Std Dev: 0.00, Eps: 0.89, gam: 0.99          \n",
      "         Episode 172, Average Score: 0.0435, Std Dev: 0.06, Eps: 0.89, gam: 0.99          \n",
      "         Episode 173, Average Score: 0.0435, Std Dev: 0.06, Eps: 0.89, gam: 0.99          \n",
      "         Episode 174, Average Score: 0.0435, Std Dev: 0.06, Eps: 0.89, gam: 0.99          \n",
      "         Episode 175, Average Score: 0.0440, Std Dev: 0.05, Eps: 0.89, gam: 0.99          \n",
      "         Episode 176, Average Score: 0.0440, Std Dev: 0.06, Eps: 0.89, gam: 0.99          \n",
      "         Episode 177, Average Score: 0.0435, Std Dev: 0.00, Eps: 0.89, gam: 0.99          \n",
      "         Episode 178, Average Score: 0.0435, Std Dev: 0.05, Eps: 0.89, gam: 0.99          \n",
      "         Episode 179, Average Score: 0.0435, Std Dev: 0.06, Eps: 0.89, gam: 0.99          \n",
      "         Episode 180, Average Score: 0.0435, Std Dev: 0.06, Eps: 0.89, gam: 0.99          \n",
      "         Episode 181, Average Score: 0.0435, Std Dev: 0.06, Eps: 0.89, gam: 0.99          \n",
      "         Episode 182, Average Score: 0.0435, Std Dev: 0.06, Eps: 0.89, gam: 0.99          \n"
     ]
    },
    {
     "name": "stdout",
     "output_type": "stream",
     "text": [
      "         Episode 183, Average Score: 0.0435, Std Dev: 0.06, Eps: 0.89, gam: 0.99          \n",
      "         Episode 184, Average Score: 0.0430, Std Dev: 0.05, Eps: 0.89, gam: 0.99          \n",
      "         Episode 185, Average Score: 0.0435, Std Dev: 0.06, Eps: 0.89, gam: 0.99          \n",
      "         Episode 186, Average Score: 0.0435, Std Dev: 0.00, Eps: 0.89, gam: 0.99          \n",
      "         Episode 187, Average Score: 0.0435, Std Dev: 0.06, Eps: 0.88, gam: 0.99          \n",
      "         Episode 188, Average Score: 0.0435, Std Dev: 0.06, Eps: 0.88, gam: 0.99          \n",
      "         Episode 189, Average Score: 0.0430, Std Dev: 0.00, Eps: 0.88, gam: 0.99          \n",
      "         Episode 190, Average Score: 0.0440, Std Dev: 0.05, Eps: 0.88, gam: 0.99          \n",
      "         Episode 191, Average Score: 0.0440, Std Dev: 0.00, Eps: 0.88, gam: 0.99          \n",
      "         Episode 192, Average Score: 0.0440, Std Dev: 0.06, Eps: 0.88, gam: 0.99          \n",
      "         Episode 193, Average Score: 0.0440, Std Dev: 0.06, Eps: 0.88, gam: 0.99          \n",
      "         Episode 194, Average Score: 0.0450, Std Dev: 0.05, Eps: 0.88, gam: 0.99          \n",
      "         Episode 195, Average Score: 0.0445, Std Dev: 0.00, Eps: 0.88, gam: 0.99          \n",
      "         Episode 196, Average Score: 0.0440, Std Dev: 0.00, Eps: 0.88, gam: 0.99          \n",
      "         Episode 197, Average Score: 0.0440, Std Dev: 0.06, Eps: 0.88, gam: 0.99          \n",
      "         Episode 198, Average Score: 0.0450, Std Dev: 0.06, Eps: 0.88, gam: 0.99          \n",
      "         Episode 199, Average Score: 0.0455, Std Dev: 0.00, Eps: 0.88, gam: 0.99          \n",
      " saved   Episode 200, Average Score: 0.0470, Std Dev: 0.00, Eps: 0.88, gam: 0.99\n",
      "         Episode 201, Average Score: 0.0470, Std Dev: 0.00, Eps: 0.88, gam: 0.99          \n",
      "         Episode 202, Average Score: 0.0470, Std Dev: 0.05, Eps: 0.88, gam: 0.99          \n",
      "         Episode 203, Average Score: 0.0475, Std Dev: 0.00, Eps: 0.88, gam: 0.99          \n",
      "         Episode 204, Average Score: 0.0480, Std Dev: 0.06, Eps: 0.88, gam: 0.99          \n",
      "         Episode 205, Average Score: 0.0490, Std Dev: 0.05, Eps: 0.88, gam: 0.99          \n",
      "         Episode 206, Average Score: 0.0490, Std Dev: 0.05, Eps: 0.87, gam: 0.99          \n",
      "         Episode 207, Average Score: 0.0490, Std Dev: 0.06, Eps: 0.87, gam: 0.99          \n",
      "         Episode 208, Average Score: 0.0490, Std Dev: 0.06, Eps: 0.87, gam: 0.99          \n",
      "         Episode 209, Average Score: 0.0495, Std Dev: 0.06, Eps: 0.87, gam: 0.99          \n",
      "         Episode 210, Average Score: 0.0495, Std Dev: 0.06, Eps: 0.87, gam: 0.99          \n",
      "         Episode 211, Average Score: 0.0490, Std Dev: 0.06, Eps: 0.87, gam: 0.99          \n",
      "         Episode 212, Average Score: 0.0490, Std Dev: 0.05, Eps: 0.87, gam: 0.99          \n",
      "         Episode 213, Average Score: 0.0485, Std Dev: 0.00, Eps: 0.87, gam: 0.99          \n",
      "         Episode 214, Average Score: 0.0490, Std Dev: 0.06, Eps: 0.87, gam: 0.99          \n",
      "         Episode 215, Average Score: 0.0490, Std Dev: 0.00, Eps: 0.87, gam: 0.99          \n",
      "         Episode 216, Average Score: 0.0500, Std Dev: 0.00, Eps: 0.87, gam: 0.99          \n",
      "         Episode 217, Average Score: 0.0505, Std Dev: 0.06, Eps: 0.87, gam: 0.99          \n",
      "         Episode 218, Average Score: 0.0505, Std Dev: 0.06, Eps: 0.87, gam: 0.99          \n",
      "         Episode 219, Average Score: 0.0505, Std Dev: 0.05, Eps: 0.87, gam: 0.99          \n",
      "         Episode 220, Average Score: 0.0505, Std Dev: 0.05, Eps: 0.87, gam: 0.99          \n",
      "         Episode 221, Average Score: 0.0520, Std Dev: 0.05, Eps: 0.87, gam: 0.99          \n",
      "         Episode 222, Average Score: 0.0520, Std Dev: 0.06, Eps: 0.87, gam: 0.99          \n",
      "         Episode 223, Average Score: 0.0520, Std Dev: 0.05, Eps: 0.87, gam: 0.99          \n",
      "         Episode 224, Average Score: 0.0525, Std Dev: 0.00, Eps: 0.87, gam: 0.99          \n",
      "         Episode 225, Average Score: 0.0525, Std Dev: 0.06, Eps: 0.86, gam: 0.99          \n",
      "         Episode 226, Average Score: 0.0530, Std Dev: 0.00, Eps: 0.86, gam: 0.99          \n",
      "         Episode 227, Average Score: 0.0525, Std Dev: 0.00, Eps: 0.86, gam: 0.99          \n",
      "         Episode 228, Average Score: 0.0525, Std Dev: 0.06, Eps: 0.86, gam: 0.99          \n",
      "         Episode 229, Average Score: 0.0530, Std Dev: 0.06, Eps: 0.86, gam: 0.99          \n",
      "         Episode 230, Average Score: 0.0535, Std Dev: 0.06, Eps: 0.86, gam: 0.99          \n",
      "         Episode 231, Average Score: 0.0540, Std Dev: 0.06, Eps: 0.86, gam: 0.99          \n",
      "         Episode 232, Average Score: 0.0545, Std Dev: 0.05, Eps: 0.86, gam: 0.99          \n",
      "         Episode 233, Average Score: 0.0540, Std Dev: 0.06, Eps: 0.86, gam: 0.99          \n",
      "         Episode 234, Average Score: 0.0535, Std Dev: 0.06, Eps: 0.86, gam: 0.99          \n",
      "         Episode 235, Average Score: 0.0535, Std Dev: 0.06, Eps: 0.86, gam: 0.99          \n",
      "         Episode 236, Average Score: 0.0535, Std Dev: 0.06, Eps: 0.86, gam: 0.99          \n",
      "         Episode 237, Average Score: 0.0540, Std Dev: 0.00, Eps: 0.86, gam: 0.99          \n",
      "         Episode 238, Average Score: 0.0535, Std Dev: 0.06, Eps: 0.86, gam: 0.99          \n",
      "         Episode 239, Average Score: 0.0535, Std Dev: 0.06, Eps: 0.86, gam: 0.99          \n",
      "         Episode 240, Average Score: 0.0530, Std Dev: 0.06, Eps: 0.86, gam: 0.99          \n",
      "         Episode 241, Average Score: 0.0535, Std Dev: 0.00, Eps: 0.86, gam: 0.99          \n",
      "         Episode 242, Average Score: 0.0535, Std Dev: 0.06, Eps: 0.86, gam: 0.99          \n",
      "         Episode 243, Average Score: 0.0530, Std Dev: 0.05, Eps: 0.86, gam: 0.99          \n",
      "         Episode 244, Average Score: 0.0530, Std Dev: 0.06, Eps: 0.86, gam: 0.99          \n",
      "         Episode 245, Average Score: 0.0525, Std Dev: 0.05, Eps: 0.85, gam: 0.99          \n",
      "         Episode 246, Average Score: 0.0525, Std Dev: 0.00, Eps: 0.85, gam: 0.99          \n",
      "         Episode 247, Average Score: 0.0520, Std Dev: 0.06, Eps: 0.85, gam: 0.99          \n",
      "         Episode 248, Average Score: 0.0520, Std Dev: 0.06, Eps: 0.85, gam: 0.99          \n",
      "         Episode 249, Average Score: 0.0515, Std Dev: 0.00, Eps: 0.85, gam: 0.99          \n",
      "         Episode 250, Average Score: 0.0540, Std Dev: 0.00, Eps: 0.85, gam: 0.99          \n",
      "         Episode 251, Average Score: 0.0540, Std Dev: 0.06, Eps: 0.85, gam: 0.99          \n",
      "         Episode 252, Average Score: 0.0540, Std Dev: 0.06, Eps: 0.85, gam: 0.99          \n",
      "         Episode 253, Average Score: 0.0540, Std Dev: 0.05, Eps: 0.85, gam: 0.99          \n",
      "         Episode 254, Average Score: 0.0535, Std Dev: 0.06, Eps: 0.85, gam: 0.99          \n",
      "         Episode 255, Average Score: 0.0535, Std Dev: 0.06, Eps: 0.85, gam: 0.99          \n",
      "         Episode 256, Average Score: 0.0535, Std Dev: 0.06, Eps: 0.85, gam: 0.99          \n",
      "         Episode 257, Average Score: 0.0535, Std Dev: 0.05, Eps: 0.85, gam: 0.99          \n",
      "         Episode 258, Average Score: 0.0555, Std Dev: 0.06, Eps: 0.85, gam: 0.99          \n",
      "         Episode 259, Average Score: 0.0560, Std Dev: 0.00, Eps: 0.85, gam: 0.99          \n",
      "         Episode 260, Average Score: 0.0565, Std Dev: 0.00, Eps: 0.85, gam: 0.99          \n",
      "         Episode 261, Average Score: 0.0565, Std Dev: 0.06, Eps: 0.85, gam: 0.99          \n",
      "         Episode 262, Average Score: 0.0570, Std Dev: 0.00, Eps: 0.85, gam: 0.99          \n",
      "         Episode 263, Average Score: 0.0580, Std Dev: 0.06, Eps: 0.85, gam: 0.99          \n",
      "         Episode 264, Average Score: 0.0580, Std Dev: 0.06, Eps: 0.84, gam: 0.99          \n",
      "         Episode 265, Average Score: 0.0580, Std Dev: 0.06, Eps: 0.84, gam: 0.99          \n",
      "         Episode 266, Average Score: 0.0580, Std Dev: 0.06, Eps: 0.84, gam: 0.99          \n",
      "         Episode 267, Average Score: 0.0585, Std Dev: 0.00, Eps: 0.84, gam: 0.99          \n",
      "         Episode 268, Average Score: 0.0580, Std Dev: 0.00, Eps: 0.84, gam: 0.99          \n",
      "         Episode 269, Average Score: 0.0585, Std Dev: 0.06, Eps: 0.84, gam: 0.99          \n",
      "         Episode 270, Average Score: 0.0585, Std Dev: 0.06, Eps: 0.84, gam: 0.99          \n",
      "         Episode 271, Average Score: 0.0590, Std Dev: 0.06, Eps: 0.84, gam: 0.99          \n",
      "         Episode 272, Average Score: 0.0600, Std Dev: 0.05, Eps: 0.84, gam: 0.99          \n",
      "         Episode 273, Average Score: 0.0600, Std Dev: 0.06, Eps: 0.84, gam: 0.99          \n"
     ]
    },
    {
     "name": "stdout",
     "output_type": "stream",
     "text": [
      "         Episode 274, Average Score: 0.0600, Std Dev: 0.06, Eps: 0.84, gam: 0.99          \n",
      "         Episode 275, Average Score: 0.0600, Std Dev: 0.06, Eps: 0.84, gam: 0.99          \n",
      "         Episode 276, Average Score: 0.0600, Std Dev: 0.06, Eps: 0.84, gam: 0.99          \n",
      "         Episode 277, Average Score: 0.0600, Std Dev: 0.00, Eps: 0.84, gam: 0.99          \n",
      "         Episode 278, Average Score: 0.0605, Std Dev: 0.00, Eps: 0.84, gam: 0.99          \n",
      "         Episode 279, Average Score: 0.0600, Std Dev: 0.00, Eps: 0.84, gam: 0.99          \n",
      "         Episode 280, Average Score: 0.0600, Std Dev: 0.06, Eps: 0.84, gam: 0.99          \n",
      "         Episode 281, Average Score: 0.0600, Std Dev: 0.05, Eps: 0.84, gam: 0.99          \n",
      "         Episode 282, Average Score: 0.0600, Std Dev: 0.05, Eps: 0.84, gam: 0.99          \n",
      "         Episode 283, Average Score: 0.0600, Std Dev: 0.06, Eps: 0.84, gam: 0.99          \n",
      "         Episode 284, Average Score: 0.0600, Std Dev: 0.06, Eps: 0.83, gam: 0.99          \n",
      "         Episode 285, Average Score: 0.0600, Std Dev: 0.06, Eps: 0.83, gam: 0.99          \n",
      "         Episode 286, Average Score: 0.0595, Std Dev: 0.05, Eps: 0.83, gam: 0.99          \n",
      "         Episode 287, Average Score: 0.0595, Std Dev: 0.06, Eps: 0.83, gam: 0.99          \n",
      "         Episode 288, Average Score: 0.0590, Std Dev: 0.00, Eps: 0.83, gam: 0.99          \n",
      "         Episode 289, Average Score: 0.0595, Std Dev: 0.06, Eps: 0.83, gam: 0.99          \n",
      "         Episode 290, Average Score: 0.0590, Std Dev: 0.00, Eps: 0.83, gam: 0.99          \n",
      "         Episode 291, Average Score: 0.0595, Std Dev: 0.06, Eps: 0.83, gam: 0.99          \n",
      "         Episode 292, Average Score: 0.0595, Std Dev: 0.06, Eps: 0.83, gam: 0.99          \n",
      "         Episode 293, Average Score: 0.0600, Std Dev: 0.00, Eps: 0.83, gam: 0.99          \n",
      "         Episode 294, Average Score: 0.0590, Std Dev: 0.05, Eps: 0.83, gam: 0.99          \n",
      "         Episode 295, Average Score: 0.0595, Std Dev: 0.06, Eps: 0.83, gam: 0.99          \n",
      "         Episode 296, Average Score: 0.0600, Std Dev: 0.06, Eps: 0.83, gam: 0.99          \n",
      "         Episode 297, Average Score: 0.0600, Std Dev: 0.05, Eps: 0.83, gam: 0.99          \n",
      "         Episode 298, Average Score: 0.0585, Std Dev: 0.00, Eps: 0.83, gam: 0.99          \n",
      "         Episode 299, Average Score: 0.0585, Std Dev: 0.00, Eps: 0.83, gam: 0.99          \n",
      " saved   Episode 300, Average Score: 0.0565, Std Dev: 0.00, Eps: 0.83, gam: 0.99\n",
      "         Episode 301, Average Score: 0.0570, Std Dev: 0.06, Eps: 0.83, gam: 0.99          \n",
      "         Episode 302, Average Score: 0.0570, Std Dev: 0.06, Eps: 0.83, gam: 0.99          \n",
      "         Episode 303, Average Score: 0.0565, Std Dev: 0.05, Eps: 0.83, gam: 0.99          \n",
      "         Episode 304, Average Score: 0.0580, Std Dev: 0.00, Eps: 0.82, gam: 0.99          \n",
      "         Episode 305, Average Score: 0.0570, Std Dev: 0.06, Eps: 0.82, gam: 0.99          \n",
      "         Episode 306, Average Score: 0.0580, Std Dev: 0.05, Eps: 0.82, gam: 0.99          \n",
      "         Episode 307, Average Score: 0.0580, Std Dev: 0.05, Eps: 0.82, gam: 0.99          \n",
      "         Episode 308, Average Score: 0.0575, Std Dev: 0.00, Eps: 0.82, gam: 0.99          \n",
      "         Episode 309, Average Score: 0.0575, Std Dev: 0.06, Eps: 0.82, gam: 0.99          \n"
     ]
    }
   ],
   "source": [
    "from collections import deque\n",
    "import math\n",
    "\n",
    "average_period=100\n",
    "scores_deque = deque(maxlen=average_period)\n",
    "scores_global = []\n",
    "average_global = []\n",
    "\n",
    "p.STEPS_BEFORE_LEARN=5\n",
    "p.NUM_LEARN_STEPS=50\n",
    "\n",
    "\n",
    "def ddpg(n_episodes=10000,save_interval=100):\n",
    "    try:\n",
    "        max_score=0\n",
    "        for i_episode in range(1, n_episodes+1):\n",
    "            env_info = env.reset(train_mode=True)[brain_name]      # reset the environment    \n",
    "            states = env_info.vector_observations                  # get the current state (for each agent)\n",
    "            prev_states=states\n",
    "            agent.reset()\n",
    "            scores = np.zeros(num_agents)                          # initialize the score (for each agent)\n",
    "            score_average = 0\n",
    "            while(True):\n",
    "                actions = agent.act(prev_states,states, add_noise=True)\n",
    "                env_info = env.step(actions)[brain_name]           # send all actions to the environment\n",
    "                next_states = env_info.vector_observations         # get next state (for each agent)\n",
    "                rewards = env_info.rewards                         # get reward (for each agent)\n",
    "                dones = env_info.local_done                        # see if any episode finished\n",
    "                agent.step(prev_states, states, actions, rewards, next_states, dones) # take a step using agent\n",
    "                prev_states = states\n",
    "                states = next_states                               # roll over states to next time step\n",
    "                scores += rewards                                  # update the score (for each agent)\n",
    "                if np.any(dones):                                  # exit loop if episode finished\n",
    "                    break\n",
    "\n",
    "            score = np.mean(scores)\n",
    "            scores_deque.append(score)\n",
    "            score_average = np.mean(scores_deque)\n",
    "            scores_global.append(score)\n",
    "            average_global.append(score_average)\n",
    "            if score_average>max_score:\n",
    "                max_score=score_average\n",
    "            #np.save(\"scores\",scores)\n",
    "            #np.save(\"scores_global\",scores_global)\n",
    "            #np.save(\"average_global\",average_global)\n",
    "            #updateLrSteps(i_episode,score_average)\n",
    "            \n",
    "            #if score_average>0.01:\n",
    "            p.EPSILON = max(p.EPSILON * p.EPSILON_DECAY,p.EPSILON_MIN)\n",
    "            p.GAMMA = min(p.GAMMA_MAX,p.GAMMA*p.GAMMA_DECAY)\n",
    "\n",
    "            save_print_scores(i_episode,save_interval,score_average,scores,max_score,p)\n",
    " \n",
    "    except (KeyboardInterrupt,SystemExit):\n",
    "        print(\"exiting\")\n",
    "        save_print_scores(i_episode,save_interval,score_average,scores,max_score,p)\n",
    "    return scores_global, average_global\n",
    "\n",
    "scores, averages = ddpg()\n"
   ]
  },
  {
   "cell_type": "markdown",
   "metadata": {},
   "source": [
    "## Save last Trained Agents (optional)"
   ]
  },
  {
   "cell_type": "code",
   "execution_count": 16,
   "metadata": {},
   "outputs": [],
   "source": [
    "torch.save(agent.agents[0].actor_local.state_dict(), 'checkpoints\\manual_checkpoint_actor1_opt.pth')\n",
    "torch.save(agent.agents[1].actor_local.state_dict(), 'checkpoints\\manual_checkpoint_actor2_opt.pth')"
   ]
  },
  {
   "cell_type": "markdown",
   "metadata": {},
   "source": [
    "## Plot Results of Training Run"
   ]
  },
  {
   "cell_type": "code",
   "execution_count": 19,
   "metadata": {},
   "outputs": [
    {
     "name": "stderr",
     "output_type": "stream",
     "text": [
      "C:\\Users\\andy\\AppData\\Local\\conda\\conda\\envs\\deeprl\\lib\\site-packages\\numpy\\core\\_methods.py:140: RuntimeWarning: Degrees of freedom <= 0 for slice\n",
      "  keepdims=keepdims)\n",
      "C:\\Users\\andy\\AppData\\Local\\conda\\conda\\envs\\deeprl\\lib\\site-packages\\numpy\\core\\_methods.py:110: RuntimeWarning: invalid value encountered in true_divide\n",
      "  arrmean, rcount, out=arrmean, casting='unsafe', subok=False)\n",
      "C:\\Users\\andy\\AppData\\Local\\conda\\conda\\envs\\deeprl\\lib\\site-packages\\numpy\\core\\_methods.py:132: RuntimeWarning: invalid value encountered in double_scalars\n",
      "  ret = ret.dtype.type(ret / rcount)\n"
     ]
    },
    {
     "data": {
      "image/png": "[encoded data removed]",
      "text/plain": [
       "<Figure size 432x288 with 1 Axes>"
      ]
     },
     "metadata": {
      "needs_background": "light"
     },
     "output_type": "display_data"
    },
    {
     "data": {
      "image/png": "[encoded data removed]",
      "text/plain": [
       "<Figure size 432x288 with 1 Axes>"
      ]
     },
     "metadata": {
      "needs_background": "light"
     },
     "output_type": "display_data"
    }
   ],
   "source": [
    "import pandas as pd\n",
    "import matplotlib.pyplot as plt\n",
    "%matplotlib inline\n",
    "\n",
    "\n",
    "stdm=[average_global[i]-np.std(scores_global[i-20:i+3]) for i in range(len(scores_global))]\n",
    "stdp=[average_global[i]+np.std(scores_global[i-20:i+3]) for i in range(len(scores_global))]\n",
    "\n",
    "plt.plot(np.arange(1, len(scores_global)+1), average_global,color='black',label='avg score')\n",
    "plt.plot(np.arange(1, len(scores_global)+1), stdm,color='green',label='+/- std dev')\n",
    "plt.plot(np.arange(1, len(scores_global)+1), stdp,color='green')\n",
    "plt.fill_between(range(len(scores_global)),\n",
    "                 stdm,\n",
    "                 stdp,\n",
    "                 color='green',alpha=0.1,interpolate=True)\n",
    "plt.title(\"Average Score per episode - 2 Agents\")\n",
    "plt.axhline(y=0.5, color='r', linestyle='-')\n",
    "plt.ylabel('Average Score (per episodes)')\n",
    "plt.xlabel('Episode #')\n",
    "plt.legend(loc='upper left')\n",
    "plt.show()\n",
    "\n",
    "fig = plt.figure()\n",
    "plt.title(\"Raw Scores, with Noise - 2 Agents\")\n",
    "plt.plot(np.arange(1, len(scores_global)+1), scores_global)\n",
    "plt.ylabel('Score')\n",
    "plt.xlabel('Episode #')\n",
    "plt.show()"
   ]
  },
  {
   "cell_type": "markdown",
   "metadata": {},
   "source": [
    "## Load and Run Optimal trained agents\n",
    "##### (Note:You can safely Interupt Kernel to stop early\n",
    "##### and if your not training, run all cells up to, and not including TrainAgent above)"
   ]
  },
  {
   "cell_type": "code",
   "execution_count": 20,
   "metadata": {},
   "outputs": [
    {
     "name": "stdout",
     "output_type": "stream",
     "text": [
      "loaded optimal network\n"
     ]
    }
   ],
   "source": [
    "\n",
    "for i in range(p.NUM_AGENTS):\n",
    "    agent.agents[i].actor_local.load_state_dict(torch.load('checkpoints\\optimum_checkpoint_actor'+str(i)+'_opt.pth'))\n",
    "print(\"loaded optimal network\")\n",
    "                \n"
   ]
  },
  {
   "cell_type": "code",
   "execution_count": 21,
   "metadata": {},
   "outputs": [
    {
     "name": "stdout",
     "output_type": "stream",
     "text": [
      "run score= 0.09500000160187483  average= 0.09500000160187483\n",
      "run score= 2.650000039488077  average= 1.372500020544976\n",
      "run score= -0.004999999888241291  average= 0.9133333470672369\n",
      "run score= 2.650000039488077  average= 1.347500020172447\n",
      "exiting...\n",
      "rscore= [0.09500000160187483, 2.650000039488077, -0.004999999888241291, 2.650000039488077] [0.09500000160187483, 1.372500020544976, 0.9133333470672369, 1.347500020172447]\n"
     ]
    }
   ],
   "source": [
    "from collections import deque\n",
    "import time\n",
    "\n",
    "average_period=100\n",
    "rscores_deque = deque(maxlen=average_period)\n",
    "rscores_global = []\n",
    "raverage_global = []\n",
    "\n",
    "def run_agent(n_episodes=100):\n",
    "    try:\n",
    "        for i_episode in range(1, n_episodes+1):\n",
    "            env_info = env.reset(train_mode=False)[brain_name]      # reset the environment    \n",
    "            states = env_info.vector_observations                  # get the current state (for each agent)\n",
    "            prev_states=states\n",
    "            agent.reset()\n",
    "            rscores = np.zeros(num_agents)                          # initialize the score (for each agent)\n",
    "            time.sleep(3)\n",
    "\n",
    "            while(True):\n",
    "                actions = agent.act(prev_states,states, add_noise=False)\n",
    "                env_info = env.step(actions)[brain_name]           # send all actions to the environment\n",
    "                next_states = env_info.vector_observations         # get next state (for each agent)\n",
    "                rewards = env_info.rewards                         # get reward (for each agent)\n",
    "                dones = env_info.local_done                        # see if any episode finished\n",
    "                prev_states = states\n",
    "                states = next_states                               # roll over states to next time step\n",
    "                rscores += rewards                                  # update the score (for each agent)            \n",
    "                if np.any(dones):                                  # exit loop if episode finished\n",
    "                    break\n",
    "\n",
    "            rscore = np.mean(rscores)\n",
    "            rscores_deque.append(rscore)\n",
    "            rscore_average = np.mean(rscores_deque)\n",
    "            rscores_global.append(rscore)\n",
    "            raverage_global.append(rscore_average)\n",
    "            print(\"run score=\",rscore,\" average=\",rscore_average)\n",
    "    except (KeyboardInterrupt,SystemExit):\n",
    "         print(\"exiting...\")\n",
    "        \n",
    "        \n",
    "    return rscores_global,raverage_global\n",
    "\n",
    "rscores,raverage=run_agent()\n",
    "print(\"rscore=\",rscores,raverage)\n"
   ]
  },
  {
   "cell_type": "markdown",
   "metadata": {},
   "source": [
    "## Plot Results of Trained Run"
   ]
  },
  {
   "cell_type": "code",
   "execution_count": 22,
   "metadata": {},
   "outputs": [
    {
     "data": {
      "image/png": "[encoded data removed]",
      "text/plain": [
       "<Figure size 432x288 with 1 Axes>"
      ]
     },
     "metadata": {
      "needs_background": "light"
     },
     "output_type": "display_data"
    },
    {
     "data": {
      "image/png": "[encoded data removed]",
      "text/plain": [
       "<Figure size 432x288 with 1 Axes>"
      ]
     },
     "metadata": {
      "needs_background": "light"
     },
     "output_type": "display_data"
    }
   ],
   "source": [
    "import pandas as pd\n",
    "import matplotlib.pyplot as plt\n",
    "%matplotlib inline\n",
    "\n",
    "\n",
    "stdm=[raverage_global[i]-np.std(rscores_global[i-5:i+3]) for i in range(len(rscores_global))]\n",
    "stdp=[raverage_global[i]+np.std(rscores_global[i-5:i+3]) for i in range(len(rscores_global))]\n",
    "\n",
    "plt.plot(np.arange(1, len(rscores_global)+1), raverage_global,color='black',label='avg score')\n",
    "plt.plot(np.arange(1, len(rscores_global)+1), stdm,color='green',label='+/- std dev')\n",
    "plt.plot(np.arange(1, len(rscores_global)+1), stdp,color='green')\n",
    "plt.ylim(0, 4)\n",
    "plt.fill_between(range(len(rscores_global)),\n",
    "                 stdm,\n",
    "                 stdp,\n",
    "                 color='green',alpha=0.1,interpolate=True)\n",
    "plt.title(\"Trained Run Average Score/episode - 2 Agents\")\n",
    "plt.axhline(y=0.5, color='r', linestyle='-')\n",
    "plt.ylabel('Average Score (per episodes)')\n",
    "plt.xlabel('Episode #')\n",
    "plt.legend(loc='upper left')\n",
    "plt.show()\n",
    "\n",
    "fig = plt.figure()\n",
    "plt.ylim(0, 4)\n",
    "plt.axhline(y=0.5, color='r', linestyle='-')\n",
    "plt.title(\"Trained Raw Scores - 2 Agents\")\n",
    "plt.plot(np.arange(1, len(rscores_global)+1), rscores_global)\n",
    "plt.ylabel('Score')\n",
    "plt.xlabel('Episode #')\n",
    "plt.show()"
   ]
  },
  {
   "cell_type": "code",
   "execution_count": null,
   "metadata": {},
   "outputs": [],
   "source": []
  },
  {
   "cell_type": "code",
   "execution_count": null,
   "metadata": {},
   "outputs": [],
   "source": []
  },
  {
   "cell_type": "code",
   "execution_count": null,
   "metadata": {},
   "outputs": [],
   "source": []
  }
 ],
 "metadata": {
  "kernelspec": {
   "display_name": "deeprl",
   "language": "python",
   "name": "deeprl"
  },
  "language_info": {
   "codemirror_mode": {
    "name": "ipython",
    "version": 3
   },
   "file_extension": ".py",
   "mimetype": "text/x-python",
   "name": "python",
   "nbconvert_exporter": "python",
   "pygments_lexer": "ipython3",
   "version": "3.5.5"
  }
 },
 "nbformat": 4,
 "nbformat_minor": 2
}
